{
  "nbformat": 4,
  "nbformat_minor": 0,
  "metadata": {
    "colab": {
      "provenance": []
    },
    "kernelspec": {
      "name": "python3",
      "display_name": "Python 3"
    },
    "language_info": {
      "name": "python"
    }
  },
  "cells": [
    {
      "cell_type": "code",
      "execution_count": 2,
      "metadata": {
        "colab": {
          "base_uri": "https://localhost:8080/"
        },
        "id": "Dx0JfkA1k8fA",
        "outputId": "d44cd9ee-4ab0-42f4-d5c0-ec59fb75aba8"
      },
      "outputs": [
        {
          "output_type": "stream",
          "name": "stdout",
          "text": [
            "Train Shape: (1966, 9)\n",
            "Test Shape: (312, 8)\n",
            "age_group\n",
            "Adult     0.839139\n",
            "Senior    0.160861\n",
            "Name: proportion, dtype: float64\n",
            "CV F1 Score: 0.35068704282331187\n"
          ]
        },
        {
          "output_type": "stream",
          "name": "stderr",
          "text": [
            "/usr/local/lib/python3.11/dist-packages/xgboost/core.py:158: UserWarning: [15:35:49] WARNING: /workspace/src/learner.cc:740: \n",
            "Parameters: { \"use_label_encoder\" } are not used.\n",
            "\n",
            "  warnings.warn(smsg, UserWarning)\n"
          ]
        },
        {
          "output_type": "stream",
          "name": "stdout",
          "text": [
            "Submission saved as NHANES_final_submission.csv\n"
          ]
        }
      ],
      "source": [
        "# NHANES Hackathon - Full Notebook\n",
        "\n",
        "# Step 1: Import Libraries\n",
        "import pandas as pd\n",
        "import numpy as np\n",
        "from sklearn.model_selection import train_test_split, cross_val_score, StratifiedKFold\n",
        "from sklearn.ensemble import RandomForestClassifier\n",
        "from sklearn.impute import SimpleImputer\n",
        "from sklearn.preprocessing import KBinsDiscretizer\n",
        "from sklearn.metrics import f1_score\n",
        "import matplotlib.pyplot as plt\n",
        "import seaborn as sns\n",
        "from imblearn.over_sampling import SMOTE\n",
        "from imblearn.pipeline import Pipeline as ImbPipeline\n",
        "from xgboost import XGBClassifier\n",
        "\n",
        "# Step 2: Load Data\n",
        "train = pd.read_csv(\"Train_Data.csv\")\n",
        "test = pd.read_csv(\"Test_Data.csv\")\n",
        "sample_submission = pd.read_csv(\"Sample_Submission.csv\")\n",
        "\n",
        "# Step 3: Basic EDA\n",
        "print(\"Train Shape:\", train.shape)\n",
        "print(\"Test Shape:\", test.shape)\n",
        "print(train['age_group'].value_counts(normalize=True))\n",
        "\n",
        "# Step 4: Preprocessing\n",
        "# Drop rows with missing target\n",
        "train = train.dropna(subset=['age_group'])\n",
        "\n",
        "# Target encoding\n",
        "target_mapping = {'Adult': 0, 'Senior': 1}\n",
        "train['age_group_num'] = train['age_group'].map(target_mapping)\n",
        "\n",
        "# Columns\n",
        "features = ['RIAGENDR', 'PAQ605', 'BMXBMI', 'LBXGLU', 'DIQ010', 'LBXGLT', 'LBXIN']\n",
        "target = 'age_group_num'\n",
        "\n",
        "# Imputation\n",
        "numeric_cols = ['BMXBMI', 'LBXGLU', 'LBXGLT', 'LBXIN']\n",
        "categorical_cols = ['RIAGENDR', 'PAQ605', 'DIQ010']\n",
        "\n",
        "num_imputer = SimpleImputer(strategy='median')\n",
        "cat_imputer = SimpleImputer(strategy='most_frequent')\n",
        "\n",
        "train[numeric_cols] = num_imputer.fit_transform(train[numeric_cols])\n",
        "train[categorical_cols] = cat_imputer.fit_transform(train[categorical_cols])\n",
        "test[numeric_cols] = num_imputer.transform(test[numeric_cols])\n",
        "test[categorical_cols] = cat_imputer.transform(test[categorical_cols])\n",
        "\n",
        "# Step 5: Feature Engineering\n",
        "train['BMI_bin'] = KBinsDiscretizer(n_bins=5, encode='ordinal', strategy='quantile').fit_transform(train[['BMXBMI']])\n",
        "test['BMI_bin'] = KBinsDiscretizer(n_bins=5, encode='ordinal', strategy='quantile').fit(train[['BMXBMI']]).transform(test[['BMXBMI']])\n",
        "\n",
        "train['GLU_INS_ratio'] = train['LBXGLU'] / (train['LBXIN'] + 1e-3)\n",
        "test['GLU_INS_ratio'] = test['LBXGLU'] / (test['LBXIN'] + 1e-3)\n",
        "\n",
        "features_adv = ['RIAGENDR', 'PAQ605', 'DIQ010', 'BMI_bin', 'LBXGLU', 'LBXGLT', 'LBXIN', 'GLU_INS_ratio']\n",
        "\n",
        "# Step 6: Prepare Data\n",
        "X = train[features_adv]\n",
        "y = train[target]\n",
        "X_test = test[features_adv]\n",
        "\n",
        "# Split for validation\n",
        "X_train, X_val, y_train, y_val = train_test_split(X, y, stratify=y, test_size=0.2, random_state=42)\n",
        "\n",
        "# Step 7: Modeling\n",
        "# SMOTE for imbalance\n",
        "smote = SMOTE(random_state=42)\n",
        "\n",
        "# XGBoost Classifier\n",
        "xgb = XGBClassifier(\n",
        "    n_estimators=500, max_depth=6, learning_rate=0.05,\n",
        "    subsample=0.8, colsample_bytree=0.8,\n",
        "    scale_pos_weight=len(y[y==0])/len(y[y==1]),\n",
        "    random_state=42, n_jobs=-1, use_label_encoder=False, eval_metric='logloss'\n",
        ")\n",
        "\n",
        "# Pipeline\n",
        "pipeline = ImbPipeline(steps=[\n",
        "    ('smote', smote),\n",
        "    ('xgb', xgb)\n",
        "])\n",
        "\n",
        "# Cross-validation\n",
        "cv = StratifiedKFold(n_splits=5, shuffle=True, random_state=42)\n",
        "cv_scores = cross_val_score(pipeline, X, y, cv=cv, scoring='f1', n_jobs=-1)\n",
        "print(\"CV F1 Score:\", cv_scores.mean())\n",
        "\n",
        "# Step 8: Train on Full Data\n",
        "pipeline.fit(X, y)\n",
        "\n",
        "# Step 9: Predict on Test\n",
        "test_preds = pipeline.predict(X_test)\n",
        "\n",
        "# Step 10: Submission\n",
        "submission = pd.DataFrame({'age_group': test_preds})\n",
        "submission.to_csv(\"NHANES_final_submission.csv\", index=False)\n",
        "print(\"Submission saved as NHANES_final_submission.csv\")\n"
      ]
    }
  ]
}